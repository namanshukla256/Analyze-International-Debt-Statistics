{
  "nbformat": 4,
  "nbformat_minor": 0,
  "metadata": {
    "colab": {
      "provenance": [],
      "include_colab_link": true
    },
    "kernelspec": {
      "name": "python3",
      "display_name": "Python 3"
    },
    "language_info": {
      "name": "python"
    }
  },
  "cells": [
    {
      "cell_type": "markdown",
      "metadata": {
        "id": "view-in-github",
        "colab_type": "text"
      },
      "source": [
        "<a href=\"https://colab.research.google.com/github/namanshukla256/Analyze-International-Debt-Statistics/blob/main/Foundational_Maths_for_DS.ipynb\" target=\"_parent\"><img src=\"https://colab.research.google.com/assets/colab-badge.svg\" alt=\"Open In Colab\"/></a>"
      ]
    },
    {
      "cell_type": "markdown",
      "source": [
        "## **Session Flow:**\n",
        "\n",
        "👨🏻‍🎓 Learning Objective:\n",
        "\n",
        "* Introduction\n",
        "* Theme\n",
        "* Primary Goals\n",
        "\n",
        "🧮 Introduction to Linear Algebra\n",
        "\n",
        "* Overview of Linear Algebra and its significance in mathematics.📚\n",
        "* Applications of Linear Algebra in various fields.\n",
        "* Real-world examples showcasing the use of linear algebra concepts.🌐\n",
        "* Activity 1\n",
        "\n",
        "🔄 Theory of Matrices\n",
        "\n",
        "*  Definition and properties of matrices.📝\n",
        "*  Matrix addition and subtraction.➕\n",
        "*  Matrix multiplication and its rules.✖️\n",
        "\n",
        "🔍 Determinant of a Matrix\n",
        "\n",
        " *  Definition of the determinant and its importance.📝\n",
        " *  Calculating determinants of 2x2 and 3x3 matrices.\n",
        " *  Understanding the geometric interpretation of determinants.📊\n",
        " *  Activity 2\n",
        "\n",
        "🌟 Eigenvalues and Eigenvectors\n",
        "\n",
        "* Explaining eigenvalues and eigenvectors as special properties of matrices.\n",
        "* Finding eigenvalues and eigenvectors using characteristic equations.\n",
        "* Applications of eigenvalues and eigenvectors in data analysis and engineering.\n",
        "* Activity 3\n",
        "\n",
        "📝 Summary\n",
        "\n",
        "* What did we learn?\n",
        "* Shortcomings & Challenges\n",
        "* Best Practices & Tips\n",
        "\n",
        "🔗 Enhance your Knowledge\n",
        "\n",
        "* Mnemonic\n",
        "* Additional Resources\n",
        "\n",
        "🔍 Try it Yourself\n",
        "\n",
        "* Activities\n",
        "* Social Engagement"
      ],
      "metadata": {
        "id": "cd-QLkttV8KG"
      }
    },
    {
      "cell_type": "markdown",
      "source": [
        "## **Introduction:**\n",
        "\n",
        "We're excited to announce that you're about to embark on a journey into the world of foundational math for data science! 🤓💻📊\n",
        "\n",
        "In this course, you'll be covering some of the primary topics that are crucial to developing a solid understanding of the mathematical concepts that are essential for working with data. 📈🔢\n",
        "\n",
        "Linear algebra is one of the fundamental topics that you'll be learning about in this course. You'll dive into the world of matrices, determinants, and eigenvectors, and explore how they are used in data analysis, machine learning, and artificial intelligence. 🧮👨‍🔬\n",
        "\n",
        "You'll also learn about vector algebra, which is an essential tool for understanding how data is represented and manipulated in the world of data science. You'll gain a deep understanding of vectors, dot products, cross products, and more! 🔍🔬\n",
        "\n",
        "Moreover, you'll explore the relationship between linear and vector algebra and learn how they intersect in the context of data science. This will help you develop a comprehensive understanding of how mathematical concepts are applied in the real world of data analysis. 🤔🧐👩‍🏫\n",
        "\n",
        "This course will provide you with a solid foundation in the mathematical concepts that are essential for working with data, and equip you with the skills you need to succeed as a data scientist. So, get ready to dive in and explore the exciting world of foundational math for data science! 🚀🌟📈"
      ],
      "metadata": {
        "id": "ayyvhtPyV_GY"
      }
    },
    {
      "cell_type": "markdown",
      "source": [
        "## **Theme:**\n",
        "\n",
        "🧮 The World of Linear Algebra 🚀\n",
        "\n",
        "Linear Algebra revolves around understanding the behavior of linear relationships between variables. Through the lens of vectors and matrices, we will explore the principles of transformation and representation of data, enabling us to tackle complex problems with elegance and precision."
      ],
      "metadata": {
        "id": "34pTAUZfxuCK"
      }
    },
    {
      "cell_type": "markdown",
      "source": [
        "## **Primary Goals:**\n",
        "\n",
        "🎯 The primary goals of this lesson are to:\n",
        "\n",
        "1️⃣ Develop a solid understanding of linear algebra and its applications in data science.\n",
        "\n",
        "2️⃣ Gain familiarity with vector algebra and how it relates to data representation and manipulation.\n",
        "\n",
        "3️⃣ Understand the intersection between linear and vector algebra and its significance in the context of data analysis.\n",
        "\n",
        "4️⃣ Learn key mathematical concepts like matrices, determinants, eigenvectors, vectors, dot products, and cross products.\n",
        "\n",
        "5️⃣ Apply these concepts to real-world data analysis problems and develop problem-solving skills.\n",
        "\n",
        "6️⃣ Gain a deeper appreciation for the role of mathematics in data science and its potential to drive insights and innovation.\n",
        "\n",
        "By achieving these goals, you'll be well on your way to becoming a skilled and knowledgeable data scientist! 🚀🌟📈 So, let's get started! 💪🤓👩‍🏫"
      ],
      "metadata": {
        "id": "_5PzjteR2oNl"
      }
    },
    {
      "cell_type": "markdown",
      "source": [
        "# **📖 Learning Material 📖**"
      ],
      "metadata": {
        "id": "EpON7lu2V__o"
      }
    },
    {
      "cell_type": "markdown",
      "source": [
        "## **Introduction to Linear Algebra**"
      ],
      "metadata": {
        "id": "Ea7hWCb0WCiK"
      }
    },
    {
      "cell_type": "markdown",
      "source": [
        "**What is Linear Algebra?**\n",
        "\n",
        "A branch of mathematics that is concerned with mathematical structures closed under the operations of addition and scalar multiplication and that includes the theory of systems of linear equations, matrices, determinants, vector spaces, and linear transformations. Basically, it is the science of numbers which empowers diverse Data Science algorithms and applications. To fully comprehend machine learning, linear algebra fundamentals are the essential prerequisite.\n",
        "\n",
        "\n",
        "**Why do you need to learn Linear Algebra?**\n",
        "\n",
        "Linear algebra is a foundation of machine learning. Before you start to study machine learning, you need to get better knowledge and understanding of this field. If you are a fan and a practitioner of machine learning, this post will help you to realize where linear algebra is applied to and you can benefit from these insights.\n",
        "\n",
        "In machine learning, the majority of data is most often represented as vectors, matrices or tensors. Therefore, the machine learning heavily relies on the linear algebra.\n",
        "\n",
        "1. A vector is a 1D array. For instance, a point in space can be defined as a vector of three coordinates (x, y, z). Usually, it is defined in such a way that it has both the magnitude and the direction.\n",
        "\n",
        "2. A matrix is a two-dimensional array of numbers, that has a fixed number of rows and columns. It contains a number at the intersection of each row and each column. A matrix is usually denoted by square brackets [].\n",
        "\n",
        "3. A tensor is a generalization of vectors and matrices. For instance, a tensor of dimension one is a vector. In addition, we can also have a tensor of two dimensions which is a matrix. Then, we can have a three-dimensional tensor such as the image with RGB colors. This continues to expand to four-dimensional tensors and so on.\n",
        "\n",
        "**Applications of Linear Algebra in Data Science**\n",
        "\n",
        "\n",
        "\n",
        "*   Coordinate Transformations\n",
        "*   Linear Regression\n",
        "*   Dimensionality Reduction\n",
        "*   Natural Language Processing\n",
        "*   Computer Vision\n",
        "*   Network Graphs\n",
        "\n",
        "\n",
        "\n",
        "\n",
        "\n",
        "\n",
        "\n",
        "\n",
        "\n",
        "\n"
      ],
      "metadata": {
        "id": "isziqyEcWWpZ"
      }
    },
    {
      "cell_type": "markdown",
      "source": [
        "**What is a vector ?**\n"
      ],
      "metadata": {
        "id": "0QyAKmGoWT-E"
      }
    },
    {
      "cell_type": "markdown",
      "source": [
        "One of the most important and fundamental concepts in linear algebra is the vector. Luckily, vectors are all around us, but they are, in general, not visible. The common ways to introduce a vector is either to begin with the strict mathematical definition, or to discuss examples of vectors, such as velocities, forces, acceleration, etc.\n",
        "\n",
        "***A vector is a mathematical quantity with both magnitude and direction.***  \n",
        "\n",
        "*The magnitude of vector u, denoted |u|, is it's length.*\n",
        "  \n",
        "One way to express its direction is to give the angle it makes with a horizontal ray (that points to the right) that is parallel to the positive x-axis.  This is called the vector's **direction angle**."
      ],
      "metadata": {
        "id": "burZmQbzXAH1"
      }
    },
    {
      "cell_type": "code",
      "source": [
        "display.IFrame(src='https://www.geogebra.org/classic/xbunqxhv', width=1000, height=800)"
      ],
      "metadata": {
        "colab": {
          "base_uri": "https://localhost:8080/",
          "height": 821
        },
        "id": "2dNao9N8c_2E",
        "outputId": "ef6fb72b-0b36-411d-be72-d54357eeb45a"
      },
      "execution_count": null,
      "outputs": [
        {
          "output_type": "execute_result",
          "data": {
            "text/plain": [
              "<IPython.lib.display.IFrame at 0x7f90c1549270>"
            ],
            "text/html": [
              "\n",
              "        <iframe\n",
              "            width=\"1000\"\n",
              "            height=\"800\"\n",
              "            src=\"https://www.geogebra.org/classic/xbunqxhv\"\n",
              "            frameborder=\"0\"\n",
              "            allowfullscreen\n",
              "            \n",
              "        ></iframe>\n",
              "        "
            ]
          },
          "metadata": {},
          "execution_count": 2
        }
      ]
    },
    {
      "cell_type": "markdown",
      "source": [
        "**Vector Addition**\n"
      ],
      "metadata": {
        "id": "ciMvjEbxXK4I"
      }
    },
    {
      "cell_type": "markdown",
      "source": [
        "The sum, u + v, of two vectors, u and  v, is constructed by placing u, at some arbitrary location, and then placing v such that v's tail point coincides with u's tip point, and  u + v  is the vector that starts at u's tail point, and ends at v's tip point."
      ],
      "metadata": {
        "id": "Bxw8GhXqXq2-"
      }
    },
    {
      "cell_type": "markdown",
      "source": [
        "**Adding Vectors Geometrically**\n"
      ],
      "metadata": {
        "id": "O48witrSXtSH"
      }
    },
    {
      "cell_type": "markdown",
      "source": [
        "Let us discover how we geometrically add any 2 vectors.\n",
        "\n",
        "**How to Use :**\n",
        "1. Determine the components of vectors u and v by using the purple and green sliders.  \n",
        "\n",
        "2. Slide the black slider (bottom right) to geometrically form vectors\n",
        "\n",
        "3. Slide the black slider (bottom right) to geometrically form vectors u and v.  \n",
        "\n",
        "4. Move the YELLOW POINT (initial point of v) ON TOP OF the ORANGE POINT (terminal point of u).  \n",
        "\n",
        "5. Slide the additional slider that appears once you complete the previous step\n",
        "\n",
        "    The vector that appears will be the the\n",
        "6. Slide the additional slider that appears. The vector that appears will be the the RESULTANT VECTOR.  \n",
        "\n",
        "7. In this case, the RESULTANT VECTOR is the sum of vectors u and v.   \n"
      ],
      "metadata": {
        "id": "Gl5M2TWgXwkx"
      }
    },
    {
      "cell_type": "code",
      "source": [
        "from IPython import display\n",
        "display.IFrame(src='https://www.geogebra.org/classic/wvfxkuvc', width=1000, height=800)"
      ],
      "metadata": {
        "id": "FGmwEbweX79p",
        "colab": {
          "base_uri": "https://localhost:8080/",
          "height": 821
        },
        "outputId": "b23c9c90-4f99-4ff9-fc7a-110cd897919a"
      },
      "execution_count": null,
      "outputs": [
        {
          "output_type": "execute_result",
          "data": {
            "text/plain": [
              "<IPython.lib.display.IFrame at 0x7f90c15498d0>"
            ],
            "text/html": [
              "\n",
              "        <iframe\n",
              "            width=\"1000\"\n",
              "            height=\"800\"\n",
              "            src=\"https://www.geogebra.org/classic/wvfxkuvc\"\n",
              "            frameborder=\"0\"\n",
              "            allowfullscreen\n",
              "            \n",
              "        ></iframe>\n",
              "        "
            ]
          },
          "metadata": {},
          "execution_count": 1
        }
      ]
    },
    {
      "cell_type": "markdown",
      "source": [
        "<iframe src=\"https://www.geogebra.org/classic/wvfxkuvc?embed\" width=\"800\" height=\"600\" allowfullscreen style=\"border: 1px solid #e4e4e4;border-radius: 4px;\" frameborder=\"0\"></iframe>\n",
        "\n",
        "\n",
        "\n",
        "\n",
        "\n",
        "\n",
        "\n"
      ],
      "metadata": {
        "id": "eboleET2X9Tj"
      }
    },
    {
      "cell_type": "markdown",
      "source": [
        "**Vector Subtraction**\n"
      ],
      "metadata": {
        "id": "DFEWGPCkgEFY"
      }
    },
    {
      "cell_type": "code",
      "source": [
        "display.IFrame(src='https://www.geogebra.org/classic/thkzrnqa', width=1000, height=800)"
      ],
      "metadata": {
        "colab": {
          "base_uri": "https://localhost:8080/",
          "height": 821
        },
        "id": "Yj74N5drdOvr",
        "outputId": "601fcb44-f2e7-4a57-e7ea-0badc673ce98"
      },
      "execution_count": null,
      "outputs": [
        {
          "output_type": "execute_result",
          "data": {
            "text/plain": [
              "<IPython.lib.display.IFrame at 0x7f90c1549750>"
            ],
            "text/html": [
              "\n",
              "        <iframe\n",
              "            width=\"1000\"\n",
              "            height=\"800\"\n",
              "            src=\"https://www.geogebra.org/classic/thkzrnqa\"\n",
              "            frameborder=\"0\"\n",
              "            allowfullscreen\n",
              "            \n",
              "        ></iframe>\n",
              "        "
            ]
          },
          "metadata": {},
          "execution_count": 3
        }
      ]
    },
    {
      "cell_type": "markdown",
      "source": [
        "**Dot Product Insight**\n"
      ],
      "metadata": {
        "id": "X0xwd6u3gLkh"
      }
    },
    {
      "cell_type": "markdown",
      "source": [
        "Recall the dot product of 2 vectors  &  is defined to be the value (a)(c) + (b)(d).\n",
        "\n",
        "Note that the dot product of 2 vectors is a scalar quantity.  \n",
        "\n",
        "In the applet below two vectors (u and v) are drawn with the same initial point.  \n",
        "\n",
        "Their dot product is also shown.  \n",
        "\n",
        "Interact with this applet for a few minutes.\n",
        "\n",
        "Do you notice anything (or several things) that seem interesting?\n",
        "\n",
        "Do you notice any patterns?"
      ],
      "metadata": {
        "id": "H0Q8bCv1gOYV"
      }
    },
    {
      "cell_type": "code",
      "source": [
        "display.IFrame(src='https://www.geogebra.org/classic/n2evzwqn', width=1000, height=800)"
      ],
      "metadata": {
        "colab": {
          "base_uri": "https://localhost:8080/",
          "height": 821
        },
        "id": "tkkE_7M3df17",
        "outputId": "51af25fc-14fc-4261-e0b0-abf4e5d87c29"
      },
      "execution_count": null,
      "outputs": [
        {
          "output_type": "execute_result",
          "data": {
            "text/plain": [
              "<IPython.lib.display.IFrame at 0x7f90c1548c40>"
            ],
            "text/html": [
              "\n",
              "        <iframe\n",
              "            width=\"1000\"\n",
              "            height=\"800\"\n",
              "            src=\"https://www.geogebra.org/classic/n2evzwqn\"\n",
              "            frameborder=\"0\"\n",
              "            allowfullscreen\n",
              "            \n",
              "        ></iframe>\n",
              "        "
            ]
          },
          "metadata": {},
          "execution_count": 4
        }
      ]
    },
    {
      "cell_type": "markdown",
      "source": [
        "**Vector Projections**\n"
      ],
      "metadata": {
        "id": "dZhSwbHygVXm"
      }
    },
    {
      "cell_type": "markdown",
      "source": [
        "Imagine it's a clear day and the sun is shining down upon the Earth.\n",
        "\n",
        "Let's pretend that the line containing vector v is the ground.\n",
        "\n",
        "Let's pretend that vector u is a stick with one endpoint on the ground and one endpoint in the air.  \n",
        "\n",
        "Since the sun is shining brightly, vector u would therefore cast a shadow on the ground, no?  \n",
        "\n",
        "The projection of u onto v is another vector that is parallel to v and has a length equal to what vector u's shadow would be (if it were cast onto the ground)."
      ],
      "metadata": {
        "id": "Bct37BsdgY3F"
      }
    },
    {
      "cell_type": "markdown",
      "source": [
        "**Orthogonality Illustrated**\n"
      ],
      "metadata": {
        "id": "mkHDNoYtgbk0"
      }
    },
    {
      "cell_type": "markdown",
      "source": [
        "In the applet below, vectors u and v are said to be orthogonal.  \n",
        "\n",
        "Move the BIG WHITE POINTS around.  As you do, make a list of 4-5 pairs of orthogonal vectors.\n",
        "\n",
        "Then, find the dot product of each pair of orthogonal vectors.  What do you get?  \n",
        "\n",
        "Measure the angle between vectors u and v.  What do you get?  Why does this result not surprise you?"
      ],
      "metadata": {
        "id": "cq8uUgN1geZj"
      }
    },
    {
      "cell_type": "code",
      "source": [
        "display.IFrame(src='https://www.geogebra.org/classic/hz92uxy3', width=1000, height=800)"
      ],
      "metadata": {
        "colab": {
          "base_uri": "https://localhost:8080/",
          "height": 821
        },
        "id": "BTh7UDV2du18",
        "outputId": "9f9f295b-3e9c-4dcf-81ea-f00d94b7b18e"
      },
      "execution_count": null,
      "outputs": [
        {
          "output_type": "execute_result",
          "data": {
            "text/plain": [
              "<IPython.lib.display.IFrame at 0x7f90c1549540>"
            ],
            "text/html": [
              "\n",
              "        <iframe\n",
              "            width=\"1000\"\n",
              "            height=\"800\"\n",
              "            src=\"https://www.geogebra.org/classic/hz92uxy3\"\n",
              "            frameborder=\"0\"\n",
              "            allowfullscreen\n",
              "            \n",
              "        ></iframe>\n",
              "        "
            ]
          },
          "metadata": {},
          "execution_count": 5
        }
      ]
    },
    {
      "cell_type": "markdown",
      "source": [
        "**Vector Norms**\n"
      ],
      "metadata": {
        "id": "LW_l9ad7gy16"
      }
    },
    {
      "cell_type": "markdown",
      "source": [
        "**L1 norm**\n",
        "\n",
        "It is defined as the sum of magnitudes of each component\n",
        "        a =  ( a1 , a2 , a3 )     \n",
        "\n",
        "L1 norm of vector a  =  |a1| + |a2| + |a3|\n",
        "\n",
        "**L2 norm**\n",
        "\n",
        "It is defined as the square root of sum of squares of each component\n",
        "\n",
        "L2 norm of vector a =  √( a12  + a22 + a32 )"
      ],
      "metadata": {
        "id": "r-MTsekvg1mC"
      }
    },
    {
      "cell_type": "markdown",
      "source": [
        "## **Activity: 🎯 Match the Vector Operations**\n",
        "\n",
        "\n",
        "Match the vector operations on the left with their corresponding descriptions on the right.\n",
        "\n",
        "\n",
        "\n",
        "1. Vector Addition         (A) Multiplying a vector by a scalar.\n",
        "2. Vector Subtraction      (B) Finding the magnitude and direction of a vector.\n",
        "3. Scalar Multiplication   (C) Combining two vectors to form a new vector.\n",
        "4. Vector Magnitude        (D) Subtracting one vector from another vector.\n",
        "\n",
        "\n",
        "\n",
        "Match the letters (A, B, C, D) with the correct numbers (1, 2, 3, 4) representing the operations. Now, can you match them correctly? 🧠💡"
      ],
      "metadata": {
        "id": "zh_dQQmrGNx6"
      }
    },
    {
      "cell_type": "markdown",
      "source": [
        "### **Answer**\n",
        "\n"
      ],
      "metadata": {
        "id": "ncMb9s6zH4Cl"
      }
    },
    {
      "cell_type": "markdown",
      "source": [
        "Vector Addition - (C)\n",
        "\n",
        "Vector Subtraction - (D)\n",
        "\n",
        "Scalar Multiplication - (A)\n",
        "\n",
        "Vector Magnitude - (B)\n"
      ],
      "metadata": {
        "id": "YSMavLODIji7"
      }
    },
    {
      "cell_type": "markdown",
      "source": [
        "## **Theory of Matrices**\n"
      ],
      "metadata": {
        "id": "9WPw1pEfF1YP"
      }
    },
    {
      "cell_type": "markdown",
      "source": [
        "**📚 What is the Theory of Matrices?**\n",
        "\n",
        "Matrix theory is a branch of mathematics that deals with the study of matrices, which are rectangular arrays of numbers or variables. Matrices are used in various fields such as physics, engineering, and data science for solving problems that involve linear equations, linear transformations, and systems of equations."
      ],
      "metadata": {
        "id": "a4BJ9Wt4F4cH"
      }
    },
    {
      "cell_type": "markdown",
      "source": [
        "**🔢 Types of Matrices:**\n",
        "\n",
        "There are several types of matrices that are important to know when studying matrix theory:\n",
        "\n",
        "**Square matrices:** A square matrix has an equal number of rows and columns.\n",
        "\n",
        "**Symmetric matrices:** A symmetric matrix is a square matrix that is equal to its transpose.\n",
        "\n",
        "**Diagonal matrices:** A diagonal matrix is a square matrix in which all the off-diagonal elements are zero.\n",
        "\n",
        "**Identity matrices:** An identity matrix is a square matrix in which all the diagonal elements are equal to one, and all the off-diagonal elements are equal to zero.\n",
        "\n",
        "**Singular matrices:** A singular matrix is a matrix that does not have an inverse."
      ],
      "metadata": {
        "id": "2lE2TYiNGqpt"
      }
    },
    {
      "cell_type": "markdown",
      "source": [
        "**🧮 Matrix Operations:**\n",
        "\n",
        "There are several operations that can be performed on matrices:\n",
        "\n",
        "**Addition:** To add two matrices, we add their corresponding elements.\n",
        "\n",
        "**Subtraction:** To subtract two matrices, we subtract their corresponding elements.\n",
        "\n",
        "**Multiplication:** To multiply two matrices, we multiply their corresponding elements and sum the products.\n",
        "\n",
        "**Transpose:** To find the transpose of a matrix, we interchange its rows and columns.\n",
        "\n",
        "**Inverse:** To find the inverse of a matrix, we use a formula that involves the determinant of the matrix."
      ],
      "metadata": {
        "id": "igMA-6QAG0Kb"
      }
    },
    {
      "cell_type": "markdown",
      "source": [
        "**Examples**"
      ],
      "metadata": {
        "id": "iiAkW0qVuaZy"
      }
    },
    {
      "cell_type": "markdown",
      "source": [
        "**Addition:**"
      ],
      "metadata": {
        "id": "QWeOFcmTvDu3"
      }
    },
    {
      "cell_type": "markdown",
      "source": [
        "Suppose we have two matrices A and B:\n",
        "\n",
        "A = \\begin{bmatrix} 2 & 4 \\\\ 1 & 3 \\end{bmatrix}\n",
        "\n",
        "\n",
        "B = \\begin{bmatrix} 5 & 1 \\\\ 2 & 7 \\end{bmatrix}\n",
        "\n",
        "To find the sum of these matrices, we simply add the corresponding elements:\n",
        "\n",
        "A + B = \\begin{bmatrix} 2 + 5 & 4 + 1 \\\\ 1 + 2 & 3 + 7 \\end{bmatrix} = \\begin{bmatrix} 7 & 5 \\\\ 3 & 10 \\end{bmatrix}\n"
      ],
      "metadata": {
        "id": "Fpswy-0tu1SX"
      }
    },
    {
      "cell_type": "markdown",
      "source": [
        "**Subtraction:**"
      ],
      "metadata": {
        "id": "ZYFZzuNGvGAK"
      }
    },
    {
      "cell_type": "markdown",
      "source": [
        "Suppose we have two matrices $\\mathbf{A}$ and $\\mathbf{B}$ given by:\n",
        "\n",
        "A = \\begin{bmatrix} 1 & 2 \\\\ 3 & 4 \\end{bmatrix} B = \\begin{bmatrix} 5 & 6 \\\\ 7 & 8 \\end{bmatrix}\n",
        "\n",
        "Then the difference between $\\mathbf{A}$ and $\\mathbf{B}$ is given by:\n",
        "\n",
        "A - B = \\begin{bmatrix} 1-5 & 2-6 \\\\ 3-7 & 4-8 \\end{bmatrix} = \\begin{bmatrix} -4 & -4 \\\\ -4 & -4 \\end{bmatrix}"
      ],
      "metadata": {
        "id": "nWsZs-UY6hIE"
      }
    },
    {
      "cell_type": "markdown",
      "source": [
        "**Multiplication:**"
      ],
      "metadata": {
        "id": "o93ZhMVD65UU"
      }
    },
    {
      "cell_type": "markdown",
      "source": [
        "Suppose we have two matrices $\\mathbf{A}$ and $\\mathbf{B}$ given by:\n",
        "\n",
        "A = \\begin{bmatrix} 1 & 2 \\\\ 3 & 4 \\end{bmatrix} B = \\begin{bmatrix} 5 & 6 \\\\ 7 & 8 \\end{bmatrix}\n",
        "\n",
        "Then the product of $\\mathbf{A}$ and $\\mathbf{B}$ is given by:\n",
        "\n",
        "A * B = \\begin{bmatrix} 1\\times5 + 2\\times7 & 1\\times6 + 2\\times8 \\\\ 3\\times5 + 4\\times7 & 3\\times6 + 4\\times8 \\end{bmatrix} = \\begin{bmatrix} 19 & 22 \\\\ 43 & 50 \\end{bmatrix}\n"
      ],
      "metadata": {
        "id": "djV_lvqi69oG"
      }
    },
    {
      "cell_type": "markdown",
      "source": [
        "**Transpose:**\n"
      ],
      "metadata": {
        "id": "9xcZD3DC7PS1"
      }
    },
    {
      "cell_type": "markdown",
      "source": [
        "Suppose we have a matrix $\\mathbf{A}$ given by:\n",
        "\n",
        "A = \\begin{bmatrix} 1 & 2 \\\\ 3 & 4 \\\\ 5 & 6 \\end{bmatrix}\n",
        "Then the transpose of $\\mathbf{A}$ is given by:\n",
        "\n",
        " \\begin{bmatrix} 1 & 3 & 5 \\\\ 2 & 4 & 6 \\end{bmatrix}\n"
      ],
      "metadata": {
        "id": "z1cYstFz7S76"
      }
    },
    {
      "cell_type": "markdown",
      "source": [
        "**Inverse:**"
      ],
      "metadata": {
        "id": "zrr9J-Kt7snH"
      }
    },
    {
      "cell_type": "markdown",
      "source": [
        "Suppose we have a matrix $\\mathbf{A}$ given by:\n",
        "\n",
        "A = \\begin{bmatrix} 2 & 1 \\\\ 4 & 3 \\end{bmatrix}\n",
        "\n",
        "To find the inverse of $\\mathbf{A}$, we first calculate the determinant of $\\mathbf{A}$ as follows:\n",
        "\n",
        " = \\begin{vmatrix} 2 & 1 \\\\ 4 & 3 \\end{vmatrix}\n",
        "\n",
        " =2×3−1×4 = 2\n",
        "\n",
        "Since the determinant is nonzero, we know that $\\mathbf{A}$ is invertible. We can then use the following formula to find the inverse of $\\mathbf{A}$:\n",
        "\n",
        "$\\mathbf{A}^{-1} = \\frac{1}{\\det(\\mathbf{A})}\\mathbf{adj}(\\mathbf{A})$\n",
        "\n",
        "\n",
        "\\begin{bmatrix} d & -b \\\\ -c & a \\end{bmatrix}\n",
        "\n",
        "where $a$, $b$, $c$, and $d$ are the elements of the matrix $\\mathbf{A}$ and $-b$ and $-c$ denote the negation of $b$ and $c$, respectively.\n",
        "\n",
        "Using this formula, we have:\n",
        "\n",
        " = \\begin{bmatrix} 3 & -1 \\\\ -4 & 2 \\end{bmatrix} = \\begin{bmatrix} \\frac{3}{2} & -\\frac{1}{2} \\\\ -2 & 1 \\end{bmatrix}\n",
        "\n",
        "Therefore, the inverse of $\\mathbf{A}$ is:\n",
        "\n",
        " \\begin{bmatrix} \\frac{3}{2} & -\\frac{1}{2} \\\\ -2 & 1 \\end{bmatrix}"
      ],
      "metadata": {
        "id": "CGJfQfzr7tuu"
      }
    },
    {
      "cell_type": "markdown",
      "source": [
        "### **Determinant of a matrix**\n"
      ],
      "metadata": {
        "id": "lTUs4FGBHB05"
      }
    },
    {
      "cell_type": "markdown",
      "source": [
        "**📚 What is the Determinant of a Matrix?**\n",
        "\n",
        "The determinant of a matrix is a scalar value that can be computed from the elements of a square matrix. The determinant provides important information about the properties of the matrix, such as whether the matrix has an inverse or not. It also plays a crucial role in solving systems of linear equations, calculating eigenvalues and eigenvectors, and in many other applications in data science."
      ],
      "metadata": {
        "id": "k-IE9qKXHC0I"
      }
    },
    {
      "cell_type": "markdown",
      "source": [
        "**🔢 Formula for Determinant:**\n",
        "\n",
        "The formula for finding the determinant of a 2x2 matrix is:\n",
        "\n",
        "|A| = ad - bc\n",
        "\n",
        "where A is the matrix:\n",
        "\n",
        "\\begin{bmatrix} {a} & b  \\\\ c & d \\end{bmatrix}\n",
        "\n",
        "\n",
        "The formula for finding the determinant of a 3x3 matrix is:\n",
        "\n",
        "|A| = a(ei - fh) - b(di - fg) + c(dh - eg)\n",
        "\n",
        "where A is the matrix:\n",
        "\n",
        "\\begin{bmatrix} a & b & c \\\\ d & e & f\\\\ g & h & i \\end{bmatrix}  \n",
        "\n",
        "\n",
        "The formula for finding the determinant of a larger square matrix is more complex and involves expanding the matrix along any row or column using a method called cofactor expansion."
      ],
      "metadata": {
        "id": "OI3Bwco9HZEf"
      }
    },
    {
      "cell_type": "markdown",
      "source": [
        "**📊 Example:**\n",
        "\n",
        "Suppose we have a 3x3 matrix A, where:\n",
        "\n",
        "A = $$ \\begin{bmatrix} 1 & 2 & 3 \\\\ 4 & 5 & 6\\\\ 7 & 8 & 9 \\end{bmatrix} $$\n",
        "\n",
        "\n",
        "\n",
        "To find the determinant of A using the formula for a 3x3 matrix, we have:\n",
        "\n",
        "$|A| = 1(5*9 - 6*8) - 2(4*9 - 6*7) + 3(4*8 - 5*7)$ = 0\n",
        "\n",
        "***Since the determinant is zero, we know that the matrix A is singular and does not have an inverse.***"
      ],
      "metadata": {
        "id": "fhiVfH63H3vo"
      }
    },
    {
      "cell_type": "markdown",
      "source": [
        "### **Inverse of a matrix**\n"
      ],
      "metadata": {
        "id": "3FnH9Ze-IewV"
      }
    },
    {
      "cell_type": "markdown",
      "source": [
        "**📚 What is the Inverse of a Matrix?**\n",
        "\n",
        "The inverse of a matrix is a matrix that, when multiplied by the original matrix, results in the identity matrix. The identity matrix is a square matrix that has ones on the main diagonal and zeros elsewhere. The inverse of a matrix is important in many applications in data science, such as solving systems of linear equations, finding eigenvalues and eigenvectors, and inverting matrices to transform data."
      ],
      "metadata": {
        "id": "WBOUHsidIiJ4"
      }
    },
    {
      "cell_type": "markdown",
      "source": [
        "**🔢 Formula for Inverse:**\n",
        "\n",
        "The formula for finding the inverse of a matrix A is\n",
        "\n",
        "$A^-1 = \\frac{1}{|A|} * adj(A) $\n",
        "\n",
        "\n",
        "where |A| is the determinant of A, and adj(A) is the adjugate of A. The adjugate of A is the transpose of the cofactor matrix of A, where the cofactor matrix is formed by taking the determinant of each minor of A."
      ],
      "metadata": {
        "id": "LYc-NrNeJFow"
      }
    },
    {
      "cell_type": "markdown",
      "source": [
        "## **Activity: Matrix Mystery 🕵️‍♀️**\n",
        "\n",
        "You and your team of data science detectives have stumbled upon a mysterious locked room filled with matrix puzzles. To unlock the room and proceed on your treasure hunt, you must solve these matrix mysteries! 🔍💼💫\n",
        "\n",
        "\n",
        "**Mystery 1:**\n",
        "\n",
        "🔍 \"I am a square matrix with equal rows and columns,\n",
        "\n",
        "🌟 My elements are all zeros except for the diagonal.\n",
        "\n",
        "✨ When multiplied by another matrix, I am like a magic wand,\n",
        "\n",
        "🎩 Leaving the other matrix unchanged without any collateral.\"\n",
        "\n",
        "What am I? 🤔\n",
        "\n",
        "\n"
      ],
      "metadata": {
        "id": "GO87HRr2I-yq"
      }
    },
    {
      "cell_type": "markdown",
      "source": [
        "**Answer:** Identity Matrix (or Unit Matrix)"
      ],
      "metadata": {
        "id": "Z24xrFypKG_C"
      }
    },
    {
      "cell_type": "markdown",
      "source": [
        "**Mystery 2:**\n",
        "\n",
        "🔍 \"I am a square matrix with elements symmetric,\n",
        "\n",
        "↔️ Across my main diagonal, you'll find the same values to detect.\n",
        "\n",
        "✨ Multiply me by my transpose, and the result is truly fantastic,\n",
        "\n",
        "🎭 A symmetric matrix again, that's the trick!\"\n",
        "\n",
        "What am I? 🤔"
      ],
      "metadata": {
        "id": "90TFy6whKGzm"
      }
    },
    {
      "cell_type": "markdown",
      "source": [
        "**Answer:** Symmetric Matrix"
      ],
      "metadata": {
        "id": "K9LC9PyQI0Yk"
      }
    },
    {
      "cell_type": "markdown",
      "source": [
        "**Mystery 3:**\n",
        "\n",
        "🔍 \"I am a square matrix whose determinant you must find,\n",
        "\n",
        "🧙‍♂️ A magic number that tells if an inverse we can bind.\n",
        "\n",
        "✅ When my determinant is not zero, there's a solution to seek,\n",
        "\n",
        "🔓 For the inverse matrix, you just have to tweak.\"\n",
        "\n",
        "What am I? 🤔"
      ],
      "metadata": {
        "id": "zI373SIwKQA6"
      }
    },
    {
      "cell_type": "markdown",
      "source": [
        "**Answer:**\n",
        "Non-Singular Matrix (or Invertible Matrix)"
      ],
      "metadata": {
        "id": "s1FxBYSoI4AP"
      }
    },
    {
      "cell_type": "markdown",
      "source": [
        "Now, put on your detective hats and solve these matrix mysteries to unlock the secrets of the room! Good luck! 🎓🔐🔎"
      ],
      "metadata": {
        "id": "xYoznKoiKZ-0"
      }
    },
    {
      "cell_type": "markdown",
      "source": [
        "### **Eigenvalues and Eigenvectors**"
      ],
      "metadata": {
        "id": "rW0kWe74KwJY"
      }
    },
    {
      "cell_type": "markdown",
      "source": [
        "🔹 Eigenvalues and eigenvectors are important concepts in linear algebra and have various applications in data science and machine learning.\n",
        "\n",
        "🔹 An eigenvector of a square matrix A is a non-zero vector v such that when A is multiplied by v, the result is a scalar multiple of v. The scalar multiple is called the eigenvalue of the matrix A.\n",
        "\n",
        "🔹 Eigenvalues and eigenvectors are often used to transform and reduce the dimensionality of data in various algorithms like PCA, SVD, and others.\n",
        "\n",
        "🔹 The eigenvalues of a matrix can be found by solving the characteristic equation of the matrix, which is det(A - λI) = 0, where det is the determinant of the matrix, A is the matrix, λ is the eigenvalue and I is the identity matrix of the same size as A.\n",
        "\n",
        "🔹 Once we find the eigenvalues, we can find the corresponding eigenvectors by solving the system of linear equations (A - λI)x = 0.\n",
        "\n",
        "🔹 Eigenvectors corresponding to different eigenvalues are linearly independent, and form the basis of the space spanned by the matrix A.\n",
        "\n",
        "🔹 Eigenvectors can also be normalized to have unit length, and thus form an orthonormal basis for the space.\n",
        "\n",
        "🔹 A matrix is diagonalizable if it has n linearly independent eigenvectors, where n is the size of the matrix."
      ],
      "metadata": {
        "id": "73_lP8PjKz1F"
      }
    },
    {
      "cell_type": "markdown",
      "source": [
        "Consider the matrix A = [[3, 1], [1, 3], [2, 2]]. To find the SVD of A, we can follow these steps:\n",
        "\n",
        "\n",
        "Compute $A^T A$ and $AA^T$:\n",
        "\n",
        "$A^T A = \\begin{bmatrix} 14 & 8 \\ 8 & 14 \\end{bmatrix}$\n",
        "\n",
        "$AA^T = \\begin{bmatrix} 10 & 10 & 10 \\ 10 & 10 & 10 \\ 10 & 10 & 12 \\end{bmatrix}$\n",
        "\n",
        "Find the eigenvalues and eigenvectors of $A^T A$ and $AA^T$:\n",
        "\n",
        "Eigenvalues of $A^T A$: $20, 0$\n",
        "\n",
        "Eigenvectors of $A^T A$: $\\begin{bmatrix} 1/\\sqrt{2} \\ 1/\\sqrt{2} \\end{bmatrix}$, $\\begin{bmatrix} 1/\\sqrt{2} \\ -1/\\sqrt{2} \\end{bmatrix}$\n",
        "\n",
        "Eigenvalues of $AA^T$: $22, 12, 0$\n",
        "\n",
        "Eigenvectors of $AA^T$: $\\begin{bmatrix} 1/\\sqrt{2} \\ 1/\\sqrt{2} \\ 0 \\end{bmatrix}$, $\\begin{bmatrix} -1/\\sqrt{2} \\ 1/\\sqrt{2} \\ 0 \\end{bmatrix}$, $\\begin{bmatrix} 1/\\sqrt{2} \\ 0 \\ -1/\\sqrt{2} \\end{bmatrix}$\n",
        "\n"
      ],
      "metadata": {
        "id": "CxW7Jj0XK2n3"
      }
    },
    {
      "cell_type": "markdown",
      "source": [
        "## **Activity: True or False**\n",
        "\n",
        "\n",
        "1. Eigenvalues and eigenvectors are used to find the hidden treasure on a data science treasure hunt. 🏴‍☠️🏴‍☠️\n",
        "\n",
        "2. If a matrix has no eigenvectors, it means the matrix is not square and cannot be used in data science. 🤔🧭\n"
      ],
      "metadata": {
        "id": "TdTYCvuCOvje"
      }
    },
    {
      "cell_type": "markdown",
      "source": [
        "### **Answers:**"
      ],
      "metadata": {
        "id": "kC76-kDRPpyN"
      }
    },
    {
      "cell_type": "markdown",
      "source": [
        "1. False\n",
        "\n",
        "  **Explanation:** While eigenvalues and eigenvectors are powerful concepts in linear algebra and have various applications in data science, they are not directly used to find hidden treasures. In reality, eigenvalues and eigenvectors are used in data analysis, machine learning, and other mathematical applications to understand the behavior of linear transformations and matrices.\n",
        "\n",
        "2. False\n",
        "\n",
        "  **Explanation:** A matrix can have eigenvectors even if it is not square. Eigenvectors are related to the properties of linear transformations and do not necessarily depend on whether the matrix is square or not. Non-square matrices can still have eigenvectors, but they may not have as many as square matrices. Eigenvectors are important in various data science applications, regardless of the shape of the matrix.\n",
        "\n"
      ],
      "metadata": {
        "id": "Ch4arSX0PLYD"
      }
    },
    {
      "cell_type": "markdown",
      "source": [
        "# **✅ Summary ✅**"
      ],
      "metadata": {
        "id": "0kkkjERJWDbM"
      }
    },
    {
      "cell_type": "markdown",
      "source": [
        "## 📚 **What Did You Learn?** 🤔📝\n",
        "\n",
        "In this foundational math for data science lesson, you learned about:\n",
        "\n",
        "🔹 Linear algebra and its applications in data science.\n",
        "\n",
        "🔹 Key mathematical concepts like matrices, determinants, and eigenvectors.\n",
        "\n",
        "🔹 Vector algebra and how it relates to data representation and manipulation.\n",
        "\n",
        "🔹 The intersection between linear and vector algebra in the context of data analysis.\n",
        "\n",
        "🔹 How to apply these concepts to real-world data analysis problems.\n",
        "\n",
        "🔹 The role of mathematics in driving insights and innovation in data science.\n",
        "\n",
        "\n",
        "By mastering these concepts, you've taken a critical first step towards becoming a skilled and knowledgeable data scientist! 🚀🌟📈 Keep practicing and applying these concepts, and you'll be on your way to mastering the art of data analysis. 💪🤓👩‍🔬"
      ],
      "metadata": {
        "id": "aSMcyL3-WHi-"
      }
    },
    {
      "cell_type": "markdown",
      "source": [
        "## 🚀 **Best Practices** 🤓📈\n",
        "\n",
        "Here are some tips to help you master the concepts you learned in this course and become a skilled data scientist:\n",
        "\n",
        "🔹 Practice, practice, practice! Consistent practice is key to mastering any skill, including math.\n",
        "\n",
        "🔹 Review key mathematical concepts like matrices, determinants, eigenvectors, vectors, dot products, and cross products.\n",
        "\n",
        "🔹 Apply these concepts to real-world data analysis problems to develop problem-solving skills.\n",
        "\n",
        "🔹 Use online resources like Khan Academy or Coursera to supplement your learning.\n",
        "\n",
        "🔹 Seek out study groups or forums to connect with other learners and exchange ideas.\n",
        "\n",
        "🔹 Stay motivated by setting clear goals and tracking your progress.\n",
        "\n",
        "🔹 Take breaks and allow yourself to rest when needed to avoid burnout.\n",
        "\n",
        "🔹 Embrace the power of mistakes and learn from them. Don't be afraid to ask for help when needed.\n",
        "\n",
        "By following these best practices and tips, you'll be well on your way to mastering foundational math for data science! 🤩💪🧑‍💻"
      ],
      "metadata": {
        "id": "ocuSktGRLTsJ"
      }
    },
    {
      "cell_type": "markdown",
      "source": [
        "## 🤔 **Shortcomings** 🙅‍♂️📉\n",
        "\n",
        "While learning foundational math for data science is essential, here are some potential pitfalls to watch out for:\n",
        "\n",
        "🔹 Not dedicating enough time to practice and review key concepts.\n",
        "\n",
        "🔹 Relying too much on memorization instead of understanding the underlying concepts.\n",
        "\n",
        "🔹 Not connecting the math concepts to real-world applications.\n",
        "\n",
        "🔹 Getting bogged down in complex formulas and not focusing on practical problem-solving.\n",
        "\n",
        "🔹 Ignoring the importance of collaboration and seeking help when needed.\n",
        "\n",
        "🔹 Burning out by not taking enough breaks or balancing other aspects of life.\n",
        "\n",
        "🔹 Getting discouraged by mistakes or setbacks instead of seeing them as opportunities to learn.\n",
        "\n",
        "By being aware of these potential shortcomings, you can take steps to avoid them and stay on track towards becoming a skilled data scientist! 💪🧑‍💻"
      ],
      "metadata": {
        "id": "WfYDacwULWVo"
      }
    },
    {
      "cell_type": "markdown",
      "source": [
        "# **➕ Additional Reading ➕**"
      ],
      "metadata": {
        "id": "eVj4iqIzWJWn"
      }
    },
    {
      "cell_type": "markdown",
      "source": [
        "### **Read or Practice Yourselves:**\n",
        "\n",
        "🔹 Read \"Linear Algebra and Its Applications\" by Gilbert Strang. This book is a classic resource for learning linear algebra and its applications.\n",
        "\n",
        "🔹 Solve math problems on sites like Project Euler, LeetCode, or HackerRank to practice your problem-solving skills.\n",
        "\n",
        "🔹 Participate in online forums and communities related to data science to learn from others and exchange ideas.\n",
        "\n",
        "🔹 Practice implementing math concepts in code using Python or other programming languages.\n",
        "\n",
        "🔹 Attend webinars or conferences related to data science to stay up-to-date on the latest trends and techniques.\n",
        "\n",
        "By engaging in these additional activities, you can deepen your understanding of foundational math for data science and enhance your overall skillset as a data scientist. Good luck! 🤩👨‍💻"
      ],
      "metadata": {
        "id": "Xb3vo7pWWPXf"
      }
    },
    {
      "cell_type": "markdown",
      "source": [
        "### **Mnemonic:**\n",
        "\n",
        "🎉 Once upon a time, in a land of data, there lived two best friends, Alice and Bob. Alice was a math wizard, and Bob was a data analyst. One day, they decided to go on an adventure to use their skills to solve some data-related problems! 🚀🔍🤓\n",
        "\n",
        "Their first challenge was to analyze a dataset of customer orders and find the total value of each order. Alice suggested using matrix multiplication to calculate the total value for each order, and Bob was impressed with her idea. They quickly got to work and used linear algebra concepts to solve the problem. 📊🧮\n",
        "\n",
        "Next, they faced a problem of analyzing a dataset of images and finding the similarity between them. Bob suggested using vector algebra to calculate the dot product between the image vectors, and Alice was excited to see his idea in action. They used vector algebra concepts to solve the problem and successfully identified the similarity between the images. 🔍🔬\n",
        "\n",
        "As they continued their adventure, they encountered various data-related challenges, and Alice and Bob worked together to apply the concepts they learned in their foundational math for data science course. They used matrix transformations, eigenvectors, and cross products to solve complex data analysis problems. 💻💡👩‍💻\n",
        "\n",
        "In the end, Alice and Bob successfully completed their data adventure, and they both agreed that their foundational math for data science course had prepared them well for the challenges they faced. They decided to celebrate their success with a cup of coffee and a data-inspired cake. 🎂☕️\n",
        "\n",
        "The end! 🎉 Remember, practice makes perfect, and by applying the concepts you've learned in this course, you too can become a data analysis wizard! 🤓🧑‍💻📈"
      ],
      "metadata": {
        "id": "1MnGJk9tLQ5T"
      }
    },
    {
      "cell_type": "markdown",
      "source": [
        "\n",
        "### **Additional Resources**\n",
        "\n",
        "1. https://turcomat.org/index.php/turkbilmat/article/view/3560\n",
        "2. https://asrjetsjournal.org/index.php/American_Scientific_Journal/article/view/6692\n",
        "3. https://iopscience.iop.org/article/10.1088/1742-6596/622/1/012006/pdf\n"
      ],
      "metadata": {
        "id": "8lKOV3S3Nr5F"
      }
    },
    {
      "cell_type": "markdown",
      "source": [
        "# **Try it Yourself 📃**\n",
        "\n",
        "Are you ready to put your coding skills to the test and gain practical knowledge? We have some exciting coding questions waiting for you to solve! 🚀\n",
        "\n",
        "Your task is to attempt the coding questions associated with this lesson. These challenges have been thoughtfully designed to reinforce your understanding of the concepts covered in the course. You can find them in your dashboard under this lesson.\n",
        "\n",
        "Don't be shy! Share your findings, experiences, and any insights you gained while tackling these coding questions on the AlmaBetter community platform. Engage in discussions, help each other out, and celebrate your victories together!"
      ],
      "metadata": {
        "id": "IZ0G9GS4SYzJ"
      }
    },
    {
      "cell_type": "markdown",
      "source": [
        "## **Task 1:**"
      ],
      "metadata": {
        "id": "ZhYGx9b4qlOX"
      }
    },
    {
      "cell_type": "markdown",
      "source": [
        "### **🔎 Activity 1:**\n",
        "\n"
      ],
      "metadata": {
        "id": "b5902bWUijOb"
      }
    },
    {
      "cell_type": "markdown",
      "source": [
        "Let 𝐮 = [3, -1, 2] and 𝐯 = [-2, 4, 5] be two vectors in R³. Find:\n",
        "\n",
        "1. The dot product 𝐮 · 𝐯\n",
        "\n",
        "2. The angle (in degrees) between 𝐮 and 𝐯\n",
        "\n",
        "3. The projection of 𝐮 onto 𝐯"
      ],
      "metadata": {
        "id": "765QwJSxIL1i"
      }
    },
    {
      "cell_type": "markdown",
      "source": [
        "### **🔎 Activity 2:**"
      ],
      "metadata": {
        "id": "Q_OU8I0XQxHM"
      }
    },
    {
      "cell_type": "markdown",
      "source": [
        "Consider the matrix $A = \\begin{bmatrix} 2 & 4 \\\\ 3 & 6 \\end{bmatrix}$. Calculate the determinant of matrix $A$ using the formula."
      ],
      "metadata": {
        "id": "BLW5nAgxRslb"
      }
    },
    {
      "cell_type": "markdown",
      "source": [
        "### **🔎 Activity 3:**.\n"
      ],
      "metadata": {
        "id": "1Wy5npUxSulo"
      }
    },
    {
      "cell_type": "markdown",
      "source": [
        "Consider the matrices $A = \\begin{bmatrix} 2 & 4 \\\\ 3 & 6 \\end{bmatrix}$ and $B = \\begin{pmatrix} 1 & 2 \\ 2 & 4 \\end{pmatrix}$. Calculate the sum of $A$ and $B$ and the difference of $B$ from $A$."
      ],
      "metadata": {
        "id": "MkqtgYuuIP8w"
      }
    },
    {
      "cell_type": "markdown",
      "source": [
        "### **✏️ Solution:**"
      ],
      "metadata": {
        "id": "eFEqfHzdTq6i"
      }
    },
    {
      "cell_type": "markdown",
      "source": [
        "## **Task 2**"
      ],
      "metadata": {
        "id": "8N2iOLzyoyS2"
      }
    },
    {
      "cell_type": "markdown",
      "source": [
        "#### **🔵 After solving these questions, how do you feel about your level of confidence in this lesson, share your experience with your Cohort group at AlmaBetter Community Platform.**🔵"
      ],
      "metadata": {
        "id": "1ewlPwBYoyxw"
      }
    }
  ]
}